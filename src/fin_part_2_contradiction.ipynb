{
 "cells": [
  {
   "cell_type": "markdown",
   "metadata": {},
   "source": [
    "### Entailment Model"
   ]
  },
  {
   "cell_type": "code",
   "execution_count": 1,
   "metadata": {},
   "outputs": [],
   "source": [
    "import torch\n",
    "from transformers import DistilBertForSequenceClassification, Trainer, TrainingArguments\n",
    "import wandb \n",
    "import csv\n",
    "import json\n",
    "import pandas as pd\n",
    "import matplotlib.pyplot as plt\n",
    "from sklearn.metrics import confusion_matrix, classification_report\n",
    "from sklearn.metrics import accuracy_score, precision_recall_fscore_support\n",
    "# from transformers import DistilBertTokenizer\n",
    "import numpy as np\n",
    "import torch.nn as nn\n",
    "# import torch.optim as optim\n",
    "# from tabulate import tabulate\n",
    "# from torch.utils.data import DataLoader\n",
    "from transformers import AutoTokenizer, AutoModelForSequenceClassification, Trainer, TrainingArguments\n",
    "from sklearn.metrics import accuracy_score, precision_recall_fscore_support\n",
    "import torch"
   ]
  },
  {
   "cell_type": "code",
   "execution_count": 2,
   "metadata": {},
   "outputs": [],
   "source": [
    "from utils import ContractNLIDataset, ContractNLIDatasetTest"
   ]
  },
  {
   "cell_type": "code",
   "execution_count": 3,
   "metadata": {},
   "outputs": [],
   "source": [
    "ENTAILMENT = 0\n",
    "CONTRADICTION = 1\n",
    "NOT_MENTIONED = 2"
   ]
  },
  {
   "cell_type": "code",
   "execution_count": 27,
   "metadata": {},
   "outputs": [],
   "source": [
    "csv_folder = \"../dataset/csv/all_labels\"\n",
    "\n",
    "train_df = pd.read_csv(f'{csv_folder}/train.csv')\n",
    "val_df = pd.read_csv(f'{csv_folder}/validation.csv')\n",
    "test_df = pd.read_csv(f'{csv_folder}/test.csv')"
   ]
  },
  {
   "cell_type": "code",
   "execution_count": null,
   "metadata": {},
   "outputs": [],
   "source": [
    "# Convert all the ENTAILMENT to NOT_MENTIONED\n",
    "train_df['label'] = train_df['label'].replace(2, 0)\n",
    "val_df['label'] = val_df['label'].replace(2, 0)\n",
    "test_df['label'] = test_df['label'].replace(2, 0)"
   ]
  },
  {
   "cell_type": "code",
   "execution_count": 29,
   "metadata": {},
   "outputs": [],
   "source": [
    "n_sample = 1400\n",
    "\n",
    "not_contradiction_df = train_df[train_df['label'] == 0].sample(n_sample)\n",
    "contradiction_df = train_df[train_df['label'] == 1]\n",
    "\n",
    "train_df = pd.concat([not_contradiction_df, contradiction_df]).reset_index(drop=True)"
   ]
  },
  {
   "cell_type": "code",
   "execution_count": 32,
   "metadata": {},
   "outputs": [],
   "source": [
    "# train_df['label'].value_counts().plot(kind='bar')"
   ]
  },
  {
   "cell_type": "code",
   "execution_count": 34,
   "metadata": {},
   "outputs": [
    {
     "name": "stdout",
     "output_type": "stream",
     "text": [
      "count    2241.000000\n",
      "mean      480.426149\n",
      "std       339.923127\n",
      "min         5.000000\n",
      "25%       257.000000\n",
      "50%       391.000000\n",
      "75%       605.000000\n",
      "max      3116.000000\n",
      "Name: concatenated_spans, dtype: float64\n",
      "count    1037.000000\n",
      "mean      495.812922\n",
      "std       337.028784\n",
      "min        20.000000\n",
      "25%       261.000000\n",
      "50%       414.000000\n",
      "75%       613.000000\n",
      "max      2920.000000\n",
      "Name: concatenated_spans, dtype: float64\n",
      "count    2091.000000\n",
      "mean      445.876614\n",
      "std       318.588350\n",
      "min         5.000000\n",
      "25%       230.000000\n",
      "50%       364.000000\n",
      "75%       564.000000\n",
      "max      2492.000000\n",
      "Name: concatenated_spans, dtype: float64\n"
     ]
    }
   ],
   "source": [
    "print(train_df['concatenated_spans'].str.len().describe())\n",
    "print(val_df['concatenated_spans'].str.len().describe())\n",
    "print(test_df['concatenated_spans'].str.len().describe())"
   ]
  },
  {
   "cell_type": "code",
   "execution_count": 14,
   "metadata": {},
   "outputs": [
    {
     "name": "stderr",
     "output_type": "stream",
     "text": [
      "Some weights of RobertaForSequenceClassification were not initialized from the model checkpoint at FacebookAI/roberta-base and are newly initialized: ['classifier.dense.bias', 'classifier.dense.weight', 'classifier.out_proj.bias', 'classifier.out_proj.weight']\n",
      "You should probably TRAIN this model on a down-stream task to be able to use it for predictions and inference.\n"
     ]
    }
   ],
   "source": [
    "model_name = \"FacebookAI/roberta-base\"\n",
    "\n",
    "model = AutoModelForSequenceClassification.from_pretrained(model_name, num_labels=2)\n",
    "tokenizer = AutoTokenizer.from_pretrained(model_name)"
   ]
  },
  {
   "cell_type": "code",
   "execution_count": 15,
   "metadata": {},
   "outputs": [
    {
     "name": "stdout",
     "output_type": "stream",
     "text": [
      "512\n"
     ]
    }
   ],
   "source": [
    "# check context len\n",
    "# model_name2.config.max_position_embeddings\n",
    "max_length = tokenizer.model_max_length\n",
    "print(max_length)"
   ]
  },
  {
   "cell_type": "code",
   "execution_count": 16,
   "metadata": {},
   "outputs": [],
   "source": [
    "train_labels = train_df['label']\n",
    "valid_labels = val_df['label']\n",
    "test_labels = test_df['label']"
   ]
  },
  {
   "cell_type": "code",
   "execution_count": 17,
   "metadata": {},
   "outputs": [],
   "source": [
    "def tokenize_data(data):\n",
    "    return tokenizer(text=data['concatenated_spans'].tolist(), text_pair=data['hypothesis'].tolist(), truncation=True, padding=\"max_length\", max_length=max_length)"
   ]
  },
  {
   "cell_type": "code",
   "execution_count": 20,
   "metadata": {},
   "outputs": [],
   "source": [
    "train_encodings = tokenize_data(train_df)\n",
    "valid_encodings = tokenize_data(val_df)\n",
    "test_encodings = tokenize_data(test_df)\n",
    "\n",
    "train_dataset = ContractNLIDataset(train_encodings, train_labels)\n",
    "valid_dataset = ContractNLIDataset(valid_encodings, valid_labels)\n",
    "test_dataset = ContractNLIDatasetTest(test_encodings)"
   ]
  },
  {
   "cell_type": "code",
   "execution_count": null,
   "metadata": {},
   "outputs": [],
   "source": [
    "def metrics(p):\n",
    "    preds = np.argmax(p.predictions, axis=1)\n",
    "    accuracy = accuracy_score(p.label_ids, preds)\n",
    "    precision, recall, f1, _ = precision_recall_fscore_support(\n",
    "        p.label_ids, preds, average=\"macro\"\n",
    "    )\n",
    "    return {\"accuracy\": accuracy, \"precision\": precision, \"recall\": recall, \"f1\": f1}"
   ]
  },
  {
   "cell_type": "code",
   "execution_count": null,
   "metadata": {},
   "outputs": [],
   "source": [
    "model_name = \"roberta_base\"\n",
    "\n",
    "wandb.init(project=\"contract-nli\", tags=[\"contradiction\", model_name])\n",
    "\n",
    "\n",
    "training_args = TrainingArguments(\n",
    "    output_dir=f'./{model_name}_contradiction',\n",
    "    num_train_epochs=1,\n",
    "    per_device_train_batch_size=8,\n",
    "    per_device_eval_batch_size=8,\n",
    "    warmup_steps=500,\n",
    "    weight_decay=0.01,\n",
    "    # logging_dir='./logs',\n",
    "    logging_steps=10,\n",
    "    eval_strategy=\"epoch\",\n",
    "    report_to=\"wandb\",\n",
    ")\n",
    "\n",
    "\n",
    "trainer = Trainer(\n",
    "    model=model,\n",
    "    args=training_args,\n",
    "    train_dataset=train_dataset,\n",
    "    eval_dataset=valid_dataset,\n",
    "    tokenizer=tokenizer,\n",
    "    compute_metrics=metrics,\n",
    ")\n",
    "\n",
    "# Train the model\n",
    "train_results = trainer.train()\n",
    "\n",
    "# Evaluate the model on the validation dataset\n",
    "eval_results = trainer.evaluate()\n",
    "\n",
    "print(\"Training complete.\")\n",
    "\n",
    "trainer.save_model(f'./{model_name}_contradiction')  # Save the model to the specified output directory"
   ]
  },
  {
   "cell_type": "code",
   "execution_count": null,
   "metadata": {},
   "outputs": [],
   "source": [
    "# Use the Trainer.predict() method to get predictions\n",
    "predictions = trainer.predict(test_dataset)\n",
    "pred_labels = predictions.predictions.argmax(axis=1)\n",
    "\n",
    "\n",
    "confusion_mat = confusion_matrix(test_labels, pred_labels)\n",
    "print(\"Confusion Matrix:\")\n",
    "print(confusion_mat)\n",
    "\n",
    "\n",
    "class_names = [\"CONTRADICTION\", \"NOT-CONTRADICTION\"]\n",
    "print(\"\\nClassification Report:\")\n",
    "print(classification_report(test_labels, pred_labels, target_names=class_names))\n",
    "\n",
    "# Error analysis\n",
    "\n",
    "incorrect_predictions = []\n",
    "for i in range(len(test_labels)):\n",
    "    if test_labels[i] != pred_labels[i]:\n",
    "        incorrect_predictions.append(i)\n",
    "\n",
    "print(\n",
    "    f\"Number of incorrect predictions: {len(incorrect_predictions)} out of {len(test_labels)}\")"
   ]
  },
  {
   "cell_type": "code",
   "execution_count": null,
   "metadata": {},
   "outputs": [],
   "source": [
    "wandb.finish()"
   ]
  }
 ],
 "metadata": {
  "kernelspec": {
   "display_name": "anlpenv",
   "language": "python",
   "name": "python3"
  },
  "language_info": {
   "codemirror_mode": {
    "name": "ipython",
    "version": 3
   },
   "file_extension": ".py",
   "mimetype": "text/x-python",
   "name": "python",
   "nbconvert_exporter": "python",
   "pygments_lexer": "ipython3",
   "version": "3.11.8"
  }
 },
 "nbformat": 4,
 "nbformat_minor": 2
}
