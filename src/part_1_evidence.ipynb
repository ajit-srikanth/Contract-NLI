{
 "cells": [
  {
   "cell_type": "markdown",
   "metadata": {},
   "source": [
    "### Evidence Identification Model"
   ]
  },
  {
   "cell_type": "markdown",
   "metadata": {},
   "source": [
    "Inputs: \n",
    "`(any) span` + `[sep]` + `hyp`  \n"
   ]
  },
  {
   "cell_type": "code",
   "execution_count": 3,
   "metadata": {},
   "outputs": [],
   "source": [
    "import torch\n",
    "from transformers import DistilBertForSequenceClassification, Trainer, TrainingArguments\n",
    "import wandb \n",
    "import csv\n",
    "import json\n",
    "import pandas as pd\n",
    "import matplotlib.pyplot as plt\n",
    "from sklearn.metrics import confusion_matrix, classification_report\n",
    "from sklearn.metrics import accuracy_score, precision_recall_fscore_support\n",
    "# from transformers import DistilBertTokenizer\n",
    "import numpy as np\n",
    "import torch.nn as nn\n",
    "# import torch.optim as optim\n",
    "# from tabulate import tabulate\n",
    "# from torch.utils.data import DataLoader\n",
    "from transformers import AutoTokenizer, AutoModelForSequenceClassification, Trainer, TrainingArguments\n",
    "from sklearn.metrics import accuracy_score, precision_recall_fscore_support\n",
    "import torch"
   ]
  },
  {
   "cell_type": "code",
   "execution_count": 4,
   "metadata": {},
   "outputs": [],
   "source": [
    "from loader import ContractNLIExample"
   ]
  },
  {
   "cell_type": "code",
   "execution_count": 5,
   "metadata": {},
   "outputs": [],
   "source": [
    "# entailment & contradiction are evidence, while not_mentioned is no evidence\n",
    "ENTAILMENT = 0\n",
    "CONTRADICTION = 0\n",
    "NOT_MENTIONED = 1"
   ]
  },
  {
   "cell_type": "code",
   "execution_count": 6,
   "metadata": {},
   "outputs": [],
   "source": [
    "def get_label(label):\n",
    "    label = str(label)\n",
    "    if label == \"NLILabel.ENTAILMENT\":\n",
    "        return ENTAILMENT\n",
    "    elif label == \"NLILabel.CONTRADICTION\":\n",
    "        return CONTRADICTION\n",
    "    elif label == \"NLILabel.NOT_MENTIONED\":\n",
    "        return NOT_MENTIONED"
   ]
  },
  {
   "cell_type": "code",
   "execution_count": 7,
   "metadata": {},
   "outputs": [],
   "source": [
    "def json_to_csv(json_file, csv_file):\n",
    "    \n",
    "    examples = ContractNLIExample.load(json.load(open(json_file, 'r', encoding='utf-8')))\n",
    "\n",
    "    with open(csv_file, 'w', newline='', encoding='utf-8') as f:\n",
    "        writer = csv.writer(f)\n",
    "        writer.writerow(['span', 'hypothesis', 'evidence_label'])   # Write the header row\n",
    "\n",
    "        # Iterate over each document\n",
    "        for example in examples:\n",
    "            doc_id = example.document_id  # Get the document ID\n",
    "            label = get_label(example.label)     # Get the 'label' object\n",
    "            hypothesis = example.hypothesis_text  # Get the 'hypothesis' object\n",
    "            context_text = example.context_text  # Get the 'context' object\n",
    "            \n",
    "            spans = example.spans  # Get the 'spans' array\n",
    "            all_spans_text = [context_text[start:end] for start, end in spans]  # Get the text of all spans\n",
    "            annotated_text = [all_spans_text[i] for i in example.annotated_spans]  # Get the 'annotations' object\n",
    "            \n",
    "            filtered_all_spans = [item for idx, item in enumerate(all_spans_text) if idx not in example.annotated_spans]\n",
    "            \n",
    "            # write the regular spans\n",
    "            for span in filtered_all_spans:\n",
    "                writer.writerow([span, hypothesis, label])  # Write the row to the CSV file\n",
    "                \n",
    "            # write the evidence spans\n",
    "            for span in annotated_text:\n",
    "                writer.writerow([span, hypothesis, label])\n",
    "\n",
    "    print(f\"Conversion complete. CSV file '{csv_file}' created.\")"
   ]
  },
  {
   "cell_type": "code",
   "execution_count": 8,
   "metadata": {},
   "outputs": [],
   "source": [
    "json_folder = \"../dataset/contract-nli\"\n",
    "csv_folder = \"../dataset/csv/EI\""
   ]
  },
  {
   "cell_type": "code",
   "execution_count": 9,
   "metadata": {},
   "outputs": [],
   "source": [
    "# json_to_csv(f'{json_folder}/train.json', f'{csv_folder}/EI_train.csv')\n",
    "# json_to_csv(f'{json_folder}/test.json', f'{csv_folder}/EI_test.csv')\n",
    "# json_to_csv(f'{json_folder}/dev.json', f'{csv_folder}/EI_validation.csv')\n",
    "\n",
    "all_train_df = pd.read_csv(f'{csv_folder}/EI_train.csv')\n",
    "all_val_df = pd.read_csv(f'{csv_folder}/EI_validation.csv')\n",
    "all_test_df = pd.read_csv(f'{csv_folder}/EI_test.csv')"
   ]
  },
  {
   "cell_type": "code",
   "execution_count": 10,
   "metadata": {},
   "outputs": [],
   "source": [
    "def stratified_sample(\n",
    "    df,\n",
    "    evidence_fraction=0.01,\n",
    "    not_evidence_fraction=0.01,\n",
    "    label_column=\"evidence_label\",\n",
    "    random_state=42,\n",
    "):\n",
    "    # Separate the DataFrame into groups based on the label column\n",
    "    evidence_group = df[df[label_column] == 0]\n",
    "    not_evidence_group = df[df[label_column] == 1]\n",
    "\n",
    "    # Sample each group\n",
    "    sampled_evidence = evidence_group.sample(\n",
    "        frac=evidence_fraction, random_state=random_state\n",
    "    )\n",
    "    sampled_not_evidence = not_evidence_group.sample(\n",
    "        frac=not_evidence_fraction, random_state=random_state\n",
    "    )\n",
    "\n",
    "    # Combine the sampled groups and reset the index\n",
    "    sampled_df = pd.concat([sampled_evidence, sampled_not_evidence]).reset_index(drop=True)\n",
    "\n",
    "    return sampled_df"
   ]
  },
  {
   "cell_type": "code",
   "execution_count": 11,
   "metadata": {},
   "outputs": [],
   "source": [
    "evidence_fraction=0.01\n",
    "not_evidence_fraction=0.01\n",
    "\n",
    "train_df = stratified_sample(\n",
    "    all_train_df, evidence_fraction=evidence_fraction, not_evidence_fraction=not_evidence_fraction\n",
    ")\n",
    "val_df = stratified_sample(all_val_df)\n",
    "test_df = stratified_sample(all_test_df)"
   ]
  },
  {
   "cell_type": "code",
   "execution_count": 12,
   "metadata": {},
   "outputs": [
    {
     "data": {
      "text/plain": [
       "evidence_label\n",
       "0    3614\n",
       "1    1978\n",
       "Name: count, dtype: int64"
      ]
     },
     "execution_count": 12,
     "metadata": {},
     "output_type": "execute_result"
    }
   ],
   "source": [
    "# get the stats for 'labels' in the training set\n",
    "train_df['evidence_label'].value_counts()\n",
    "# val_df['evidence_label'].value_counts().plot(kind='bar')\n",
    "# test_df['evidence_label'].value_counts().plot(kind='bar')"
   ]
  },
  {
   "cell_type": "code",
   "execution_count": 30,
   "metadata": {},
   "outputs": [
    {
     "name": "stderr",
     "output_type": "stream",
     "text": [
      "Some weights of RobertaForSequenceClassification were not initialized from the model checkpoint at FacebookAI/roberta-base and are newly initialized: ['classifier.dense.bias', 'classifier.dense.weight', 'classifier.out_proj.bias', 'classifier.out_proj.weight']\n",
      "You should probably TRAIN this model on a down-stream task to be able to use it for predictions and inference.\n"
     ]
    }
   ],
   "source": [
    "model_name = \"FacebookAI/roberta-base\"\n",
    "\n",
    "model = AutoModelForSequenceClassification.from_pretrained(model_name, num_labels=2)\n",
    "tokenizer = AutoTokenizer.from_pretrained(model_name)"
   ]
  },
  {
   "cell_type": "code",
   "execution_count": null,
   "metadata": {},
   "outputs": [],
   "source": [
    "# print all trainable parameters\n",
    "for name, param in model.named_parameters():\n",
    "    if param.requires_grad and not (\"classifier\" in name):\n",
    "        param.requires_grad = False"
   ]
  },
  {
   "cell_type": "code",
   "execution_count": 15,
   "metadata": {},
   "outputs": [
    {
     "name": "stdout",
     "output_type": "stream",
     "text": [
      "512\n"
     ]
    }
   ],
   "source": [
    "# check context len\n",
    "# model_name2.config.max_position_embeddings\n",
    "max_length = tokenizer.model_max_length\n",
    "print(max_length)"
   ]
  },
  {
   "cell_type": "code",
   "execution_count": 16,
   "metadata": {},
   "outputs": [],
   "source": [
    "train_labels = train_df['evidence_label']\n",
    "valid_labels = val_df['evidence_label']\n",
    "test_labels = test_df['evidence_label']"
   ]
  },
  {
   "cell_type": "code",
   "execution_count": 17,
   "metadata": {},
   "outputs": [],
   "source": [
    "def tokenize_data(data):\n",
    "    return tokenizer(text=data['span'].tolist(), text_pair=data['hypothesis'].tolist(), truncation=True, padding=\"max_length\", max_length=max_length)"
   ]
  },
  {
   "cell_type": "code",
   "execution_count": 18,
   "metadata": {},
   "outputs": [],
   "source": [
    "class ContractNLIDataset(torch.utils.data.Dataset):\n",
    "    def __init__(self, embeddings, labels):\n",
    "        self.embeddings = embeddings\n",
    "        self.labels = labels\n",
    "\n",
    "    def __len__(self):\n",
    "        return len(self.labels)\n",
    "\n",
    "    def __getitem__(self, idx):\n",
    "        item = {}\n",
    "\n",
    "        for key, value in self.embeddings.items():\n",
    "            element_at_idx = value[idx]\n",
    "            tensor_at_idx = torch.tensor(element_at_idx)\n",
    "            item[key] = tensor_at_idx\n",
    "\n",
    "        label_at_idx = self.labels[idx]\n",
    "        label_tensor = torch.tensor(int(label_at_idx))\n",
    "        item[\"labels\"] = label_tensor\n",
    "\n",
    "        return item"
   ]
  },
  {
   "cell_type": "code",
   "execution_count": 19,
   "metadata": {},
   "outputs": [],
   "source": [
    "train_encodings = tokenize_data(train_df)\n",
    "valid_encodings = tokenize_data(val_df)\n",
    "test_encodings = tokenize_data(test_df)\n",
    "\n",
    "train_dataset = ContractNLIDataset(train_encodings, train_labels)\n",
    "valid_dataset = ContractNLIDataset(valid_encodings, valid_labels)"
   ]
  },
  {
   "cell_type": "code",
   "execution_count": 20,
   "metadata": {},
   "outputs": [],
   "source": [
    "def metrics(p):\n",
    "    preds = np.argmax(p.predictions, axis=1)\n",
    "    accuracy = accuracy_score(p.label_ids, preds)\n",
    "    precision, recall, f1, _ = precision_recall_fscore_support(\n",
    "        p.label_ids, preds, average=\"weighted\", zero_division=1  # Add zero_division here\n",
    "    )\n",
    "    return {\"accuracy\": accuracy, \"precision\": precision, \"recall\": recall, \"f1\": f1}"
   ]
  },
  {
   "cell_type": "code",
   "execution_count": 21,
   "metadata": {},
   "outputs": [
    {
     "name": "stderr",
     "output_type": "stream",
     "text": [
      "\u001b[34m\u001b[1mwandb\u001b[0m: Using wandb-core as the SDK backend. Please refer to https://wandb.me/wandb-core for more information.\n",
      "\u001b[34m\u001b[1mwandb\u001b[0m: Currently logged in as: \u001b[33mjhalak151\u001b[0m (\u001b[33mjhalak-team\u001b[0m). Use \u001b[1m`wandb login --relogin`\u001b[0m to force relogin\n"
     ]
    },
    {
     "data": {
      "text/html": [
       "Tracking run with wandb version 0.18.5"
      ],
      "text/plain": [
       "<IPython.core.display.HTML object>"
      ]
     },
     "metadata": {},
     "output_type": "display_data"
    },
    {
     "data": {
      "text/html": [
       "Run data is saved locally in <code>c:\\Users\\jbanz\\Documents\\uni\\courses_sem7\\ANLP\\p\\Project\\src\\wandb\\run-20241116_012400-mrebruek</code>"
      ],
      "text/plain": [
       "<IPython.core.display.HTML object>"
      ]
     },
     "metadata": {},
     "output_type": "display_data"
    },
    {
     "data": {
      "text/html": [
       "Syncing run <strong><a href='https://wandb.ai/jhalak-team/Contract-NLI/runs/mrebruek' target=\"_blank\">snowy-water-51</a></strong> to <a href='https://wandb.ai/jhalak-team/Contract-NLI' target=\"_blank\">Weights & Biases</a> (<a href='https://wandb.me/run' target=\"_blank\">docs</a>)<br/>"
      ],
      "text/plain": [
       "<IPython.core.display.HTML object>"
      ]
     },
     "metadata": {},
     "output_type": "display_data"
    },
    {
     "data": {
      "text/html": [
       " View project at <a href='https://wandb.ai/jhalak-team/Contract-NLI' target=\"_blank\">https://wandb.ai/jhalak-team/Contract-NLI</a>"
      ],
      "text/plain": [
       "<IPython.core.display.HTML object>"
      ]
     },
     "metadata": {},
     "output_type": "display_data"
    },
    {
     "data": {
      "text/html": [
       " View run at <a href='https://wandb.ai/jhalak-team/Contract-NLI/runs/mrebruek' target=\"_blank\">https://wandb.ai/jhalak-team/Contract-NLI/runs/mrebruek</a>"
      ],
      "text/plain": [
       "<IPython.core.display.HTML object>"
      ]
     },
     "metadata": {},
     "output_type": "display_data"
    },
    {
     "data": {
      "text/html": [
       "<button onClick=\"this.nextSibling.style.display='block';this.style.display='none';\">Display W&B run</button><iframe src='https://wandb.ai/jhalak-team/Contract-NLI/runs/mrebruek?jupyter=true' style='border:none;width:100%;height:420px;display:none;'></iframe>"
      ],
      "text/plain": [
       "<wandb.sdk.wandb_run.Run at 0x15e001a70d0>"
      ]
     },
     "execution_count": 21,
     "metadata": {},
     "output_type": "execute_result"
    }
   ],
   "source": [
    "wandb.init(project=\"contract-nli\")"
   ]
  },
  {
   "cell_type": "code",
   "execution_count": null,
   "metadata": {},
   "outputs": [],
   "source": [
    "training_args = TrainingArguments(\n",
    "    output_dir='./bert_base_evidence_small',\n",
    "    num_train_epochs=1,\n",
    "    per_device_train_batch_size=8,\n",
    "    per_device_eval_batch_size=8,\n",
    "    warmup_steps=500,\n",
    "    weight_decay=0.01,\n",
    "    logging_dir='./logs',\n",
    "    logging_steps=10,\n",
    "    eval_strategy=\"epoch\",\n",
    "    report_to=\"wandb\",\n",
    ")\n",
    "\n",
    "\n",
    "trainer = Trainer(\n",
    "    model=model,\n",
    "    args=training_args,\n",
    "    train_dataset=train_dataset,\n",
    "    eval_dataset=valid_dataset,\n",
    "    tokenizer=tokenizer,\n",
    "    compute_metrics=metrics,\n",
    ")"
   ]
  },
  {
   "cell_type": "code",
   "execution_count": 23,
   "metadata": {},
   "outputs": [
    {
     "name": "stderr",
     "output_type": "stream",
     "text": [
      "\u001b[34m\u001b[1mwandb\u001b[0m: \u001b[33mWARNING\u001b[0m The `run_name` is currently set to the same value as `TrainingArguments.output_dir`. If this was not intended, please specify a different run name by setting the `TrainingArguments.run_name` parameter.\n"
     ]
    },
    {
     "data": {
      "application/vnd.jupyter.widget-view+json": {
       "model_id": "cfec0160396e4f30be1cdcbeebb4e1a3",
       "version_major": 2,
       "version_minor": 0
      },
      "text/plain": [
       "  0%|          | 0/699 [00:00<?, ?it/s]"
      ]
     },
     "metadata": {},
     "output_type": "display_data"
    },
    {
     "name": "stderr",
     "output_type": "stream",
     "text": [
      "c:\\Users\\jbanz\\.conda\\envs\\anlpenv\\Lib\\site-packages\\transformers\\models\\roberta\\modeling_roberta.py:370: UserWarning: 1Torch was not compiled with flash attention. (Triggered internally at ..\\aten\\src\\ATen\\native\\transformers\\cuda\\sdp_utils.cpp:263.)\n",
      "  attn_output = torch.nn.functional.scaled_dot_product_attention(\n"
     ]
    },
    {
     "name": "stdout",
     "output_type": "stream",
     "text": [
      "{'loss': 0.6884, 'grad_norm': 2.3267569541931152, 'learning_rate': 1.0000000000000002e-06, 'epoch': 0.01}\n",
      "{'loss': 0.704, 'grad_norm': 2.0237112045288086, 'learning_rate': 2.0000000000000003e-06, 'epoch': 0.03}\n",
      "{'loss': 0.6937, 'grad_norm': 4.154807090759277, 'learning_rate': 3e-06, 'epoch': 0.04}\n",
      "{'loss': 0.6932, 'grad_norm': 2.607322931289673, 'learning_rate': 4.000000000000001e-06, 'epoch': 0.06}\n",
      "{'loss': 0.7005, 'grad_norm': 3.1149163246154785, 'learning_rate': 5e-06, 'epoch': 0.07}\n",
      "{'loss': 0.6717, 'grad_norm': 4.681314945220947, 'learning_rate': 6e-06, 'epoch': 0.09}\n",
      "{'loss': 0.6357, 'grad_norm': 3.363022565841675, 'learning_rate': 7.000000000000001e-06, 'epoch': 0.1}\n",
      "{'loss': 0.6351, 'grad_norm': 2.742649793624878, 'learning_rate': 8.000000000000001e-06, 'epoch': 0.11}\n",
      "{'loss': 0.6168, 'grad_norm': 7.802003383636475, 'learning_rate': 9e-06, 'epoch': 0.13}\n",
      "{'loss': 0.7109, 'grad_norm': 3.850588798522949, 'learning_rate': 1e-05, 'epoch': 0.14}\n",
      "{'loss': 0.6107, 'grad_norm': 8.160975456237793, 'learning_rate': 1.1000000000000001e-05, 'epoch': 0.16}\n",
      "{'loss': 0.6441, 'grad_norm': 5.464284896850586, 'learning_rate': 1.2e-05, 'epoch': 0.17}\n",
      "{'loss': 0.5876, 'grad_norm': 12.016423225402832, 'learning_rate': 1.3000000000000001e-05, 'epoch': 0.19}\n",
      "{'loss': 0.696, 'grad_norm': 5.113212585449219, 'learning_rate': 1.4000000000000001e-05, 'epoch': 0.2}\n",
      "{'loss': 0.6013, 'grad_norm': 6.729681968688965, 'learning_rate': 1.5e-05, 'epoch': 0.21}\n",
      "{'loss': 0.6418, 'grad_norm': 15.47950267791748, 'learning_rate': 1.6000000000000003e-05, 'epoch': 0.23}\n",
      "{'loss': 0.5952, 'grad_norm': 6.6317338943481445, 'learning_rate': 1.7000000000000003e-05, 'epoch': 0.24}\n",
      "{'loss': 0.6207, 'grad_norm': 11.83710765838623, 'learning_rate': 1.8e-05, 'epoch': 0.26}\n",
      "{'loss': 0.6475, 'grad_norm': 8.191035270690918, 'learning_rate': 1.9e-05, 'epoch': 0.27}\n",
      "{'loss': 0.6276, 'grad_norm': 5.368743896484375, 'learning_rate': 2e-05, 'epoch': 0.29}\n",
      "{'loss': 0.583, 'grad_norm': 4.246950149536133, 'learning_rate': 2.1e-05, 'epoch': 0.3}\n",
      "{'loss': 0.5747, 'grad_norm': 17.475021362304688, 'learning_rate': 2.2000000000000003e-05, 'epoch': 0.31}\n",
      "{'loss': 0.5825, 'grad_norm': 7.760066509246826, 'learning_rate': 2.3000000000000003e-05, 'epoch': 0.33}\n",
      "{'loss': 0.622, 'grad_norm': 9.818865776062012, 'learning_rate': 2.4e-05, 'epoch': 0.34}\n",
      "{'loss': 0.6641, 'grad_norm': 16.254138946533203, 'learning_rate': 2.5e-05, 'epoch': 0.36}\n",
      "{'loss': 0.6051, 'grad_norm': 8.382184982299805, 'learning_rate': 2.6000000000000002e-05, 'epoch': 0.37}\n",
      "{'loss': 0.5129, 'grad_norm': 6.825436115264893, 'learning_rate': 2.7000000000000002e-05, 'epoch': 0.39}\n",
      "{'loss': 0.5646, 'grad_norm': 8.399995803833008, 'learning_rate': 2.8000000000000003e-05, 'epoch': 0.4}\n",
      "{'loss': 0.623, 'grad_norm': 11.140541076660156, 'learning_rate': 2.9e-05, 'epoch': 0.41}\n",
      "{'loss': 0.6229, 'grad_norm': 8.78769302368164, 'learning_rate': 3e-05, 'epoch': 0.43}\n",
      "{'loss': 0.576, 'grad_norm': 7.687690258026123, 'learning_rate': 3.1e-05, 'epoch': 0.44}\n",
      "{'loss': 0.6124, 'grad_norm': 6.252934455871582, 'learning_rate': 3.2000000000000005e-05, 'epoch': 0.46}\n",
      "{'loss': 0.5533, 'grad_norm': 13.699182510375977, 'learning_rate': 3.3e-05, 'epoch': 0.47}\n",
      "{'loss': 0.5796, 'grad_norm': 9.210904121398926, 'learning_rate': 3.4000000000000007e-05, 'epoch': 0.49}\n",
      "{'loss': 0.5703, 'grad_norm': 8.017863273620605, 'learning_rate': 3.5e-05, 'epoch': 0.5}\n",
      "{'loss': 0.6301, 'grad_norm': 7.235185623168945, 'learning_rate': 3.6e-05, 'epoch': 0.52}\n",
      "{'loss': 0.6165, 'grad_norm': 7.197425365447998, 'learning_rate': 3.7e-05, 'epoch': 0.53}\n",
      "{'loss': 0.6166, 'grad_norm': 5.137016773223877, 'learning_rate': 3.8e-05, 'epoch': 0.54}\n",
      "{'loss': 0.7498, 'grad_norm': 11.273531913757324, 'learning_rate': 3.9000000000000006e-05, 'epoch': 0.56}\n",
      "{'loss': 0.6966, 'grad_norm': 3.7964653968811035, 'learning_rate': 4e-05, 'epoch': 0.57}\n",
      "{'loss': 0.5771, 'grad_norm': 50.17456817626953, 'learning_rate': 4.1e-05, 'epoch': 0.59}\n",
      "{'loss': 0.5949, 'grad_norm': 5.141382694244385, 'learning_rate': 4.2e-05, 'epoch': 0.6}\n",
      "{'loss': 0.5666, 'grad_norm': 5.320777416229248, 'learning_rate': 4.3e-05, 'epoch': 0.62}\n",
      "{'loss': 0.5696, 'grad_norm': 2.977760076522827, 'learning_rate': 4.4000000000000006e-05, 'epoch': 0.63}\n",
      "{'loss': 0.6472, 'grad_norm': 6.786009788513184, 'learning_rate': 4.5e-05, 'epoch': 0.64}\n",
      "{'loss': 0.4965, 'grad_norm': 9.448312759399414, 'learning_rate': 4.600000000000001e-05, 'epoch': 0.66}\n",
      "{'loss': 0.6309, 'grad_norm': 6.170889377593994, 'learning_rate': 4.7e-05, 'epoch': 0.67}\n",
      "{'loss': 0.5689, 'grad_norm': 8.591797828674316, 'learning_rate': 4.8e-05, 'epoch': 0.69}\n",
      "{'loss': 0.5744, 'grad_norm': 6.787657260894775, 'learning_rate': 4.9e-05, 'epoch': 0.7}\n",
      "{'loss': 0.6644, 'grad_norm': 14.971596717834473, 'learning_rate': 5e-05, 'epoch': 0.72}\n",
      "{'loss': 0.6149, 'grad_norm': 7.170650959014893, 'learning_rate': 4.748743718592965e-05, 'epoch': 0.73}\n",
      "{'loss': 0.5212, 'grad_norm': 14.317687034606934, 'learning_rate': 4.49748743718593e-05, 'epoch': 0.74}\n",
      "{'loss': 0.6279, 'grad_norm': 4.803140640258789, 'learning_rate': 4.246231155778895e-05, 'epoch': 0.76}\n",
      "{'loss': 0.6215, 'grad_norm': 4.974240303039551, 'learning_rate': 3.9949748743718597e-05, 'epoch': 0.77}\n",
      "{'loss': 0.4811, 'grad_norm': 18.467517852783203, 'learning_rate': 3.7437185929648245e-05, 'epoch': 0.79}\n",
      "{'loss': 0.7438, 'grad_norm': 5.678184986114502, 'learning_rate': 3.4924623115577894e-05, 'epoch': 0.8}\n",
      "{'loss': 0.5917, 'grad_norm': 6.549929141998291, 'learning_rate': 3.241206030150754e-05, 'epoch': 0.82}\n",
      "{'loss': 0.6429, 'grad_norm': 6.2677507400512695, 'learning_rate': 2.989949748743719e-05, 'epoch': 0.83}\n",
      "{'loss': 0.519, 'grad_norm': 5.177757740020752, 'learning_rate': 2.738693467336684e-05, 'epoch': 0.84}\n",
      "{'loss': 0.6732, 'grad_norm': 3.323986291885376, 'learning_rate': 2.4874371859296484e-05, 'epoch': 0.86}\n",
      "{'loss': 0.6088, 'grad_norm': 6.094424724578857, 'learning_rate': 2.2361809045226133e-05, 'epoch': 0.87}\n",
      "{'loss': 0.5037, 'grad_norm': 5.210958957672119, 'learning_rate': 1.984924623115578e-05, 'epoch': 0.89}\n",
      "{'loss': 0.5909, 'grad_norm': 2.7882442474365234, 'learning_rate': 1.7336683417085427e-05, 'epoch': 0.9}\n",
      "{'loss': 0.4475, 'grad_norm': 5.2176713943481445, 'learning_rate': 1.4824120603015077e-05, 'epoch': 0.92}\n",
      "{'loss': 0.5959, 'grad_norm': 7.872183799743652, 'learning_rate': 1.2311557788944725e-05, 'epoch': 0.93}\n",
      "{'loss': 0.5175, 'grad_norm': 5.398240566253662, 'learning_rate': 9.798994974874372e-06, 'epoch': 0.94}\n",
      "{'loss': 0.5473, 'grad_norm': 3.1027748584747314, 'learning_rate': 7.28643216080402e-06, 'epoch': 0.96}\n",
      "{'loss': 0.6408, 'grad_norm': 16.670055389404297, 'learning_rate': 4.773869346733668e-06, 'epoch': 0.97}\n",
      "{'loss': 0.5072, 'grad_norm': 5.084742069244385, 'learning_rate': 2.261306532663317e-06, 'epoch': 0.99}\n"
     ]
    },
    {
     "data": {
      "application/vnd.jupyter.widget-view+json": {
       "model_id": "54bf8e2008ab4acd8297a2de6a8d6630",
       "version_major": 2,
       "version_minor": 0
      },
      "text/plain": [
       "  0%|          | 0/109 [00:00<?, ?it/s]"
      ]
     },
     "metadata": {},
     "output_type": "display_data"
    },
    {
     "name": "stdout",
     "output_type": "stream",
     "text": [
      "{'eval_loss': 0.5845615863800049, 'eval_accuracy': 0.7289504036908881, 'eval_precision': 0.7216540045902768, 'eval_recall': 0.7289504036908881, 'eval_f1': 0.7193378215484377, 'eval_runtime': 27.624, 'eval_samples_per_second': 31.386, 'eval_steps_per_second': 3.946, 'epoch': 1.0}\n",
      "{'train_runtime': 550.792, 'train_samples_per_second': 10.153, 'train_steps_per_second': 1.269, 'train_loss': 0.6075321308021382, 'epoch': 1.0}\n"
     ]
    },
    {
     "data": {
      "application/vnd.jupyter.widget-view+json": {
       "model_id": "5f07c6f59f694b67b5cb157b683084ed",
       "version_major": 2,
       "version_minor": 0
      },
      "text/plain": [
       "  0%|          | 0/109 [00:00<?, ?it/s]"
      ]
     },
     "metadata": {},
     "output_type": "display_data"
    },
    {
     "name": "stdout",
     "output_type": "stream",
     "text": [
      "Training complete.\n"
     ]
    }
   ],
   "source": [
    "# Train the model\n",
    "train_results = trainer.train()\n",
    "\n",
    "# Evaluate the model on the validation dataset\n",
    "eval_results = trainer.evaluate()\n",
    "\n",
    "print(\"Training complete.\")"
   ]
  },
  {
   "cell_type": "code",
   "execution_count": 24,
   "metadata": {},
   "outputs": [],
   "source": [
    "class ContractNLIDatasetTest(torch.utils.data.Dataset):\n",
    "    def __init__(self, encodings):\n",
    "        self.encodings = encodings\n",
    "\n",
    "    def __getitem__(self, idx):\n",
    "        item = {key: torch.tensor(value[idx]) for key, value in self.encodings.items()}\n",
    "        return item\n",
    "\n",
    "    def __len__(self):\n",
    "        return len(self.encodings[\"input_ids\"])\n",
    "\n",
    "\n",
    "test_encodings = tokenize_data(test_df)\n",
    "test_dataset = ContractNLIDatasetTest(test_encodings)"
   ]
  },
  {
   "cell_type": "code",
   "execution_count": 25,
   "metadata": {},
   "outputs": [
    {
     "data": {
      "application/vnd.jupyter.widget-view+json": {
       "model_id": "6d56603e07554304aac27ff164eddcf7",
       "version_major": 2,
       "version_minor": 0
      },
      "text/plain": [
       "  0%|          | 0/214 [00:00<?, ?it/s]"
      ]
     },
     "metadata": {},
     "output_type": "display_data"
    },
    {
     "name": "stdout",
     "output_type": "stream",
     "text": [
      "Confusion Matrix:\n",
      "[[865 144]\n",
      " [361 340]]\n",
      "Test Accuracy: 0.7046783625730995\n",
      "Precision: 0.7042891389601819\n",
      "Recall: 0.7046783625730995\n",
      "F1-score: 0.6919750077957806\n",
      "\n",
      "Classification Report:\n",
      "              precision    recall  f1-score   support\n",
      "\n",
      "    EVIDENCE       0.71      0.86      0.77      1009\n",
      "NOT-EVIDENCE       0.70      0.49      0.57       701\n",
      "\n",
      "    accuracy                           0.70      1710\n",
      "   macro avg       0.70      0.67      0.67      1710\n",
      "weighted avg       0.70      0.70      0.69      1710\n",
      "\n",
      "Number of incorrect predictions: 505 out of 1710\n"
     ]
    }
   ],
   "source": [
    "# Use the Trainer.predict() method to get predictions\n",
    "predictions = trainer.predict(test_dataset)\n",
    "pred_labels = predictions.predictions.argmax(axis=1)\n",
    "\n",
    "\n",
    "confusion_mat = confusion_matrix(test_labels, pred_labels)\n",
    "print(\"Confusion Matrix:\")\n",
    "print(confusion_mat)\n",
    "\n",
    "\n",
    "# Compute evaluation metrics\n",
    "accuracy = accuracy_score(test_labels, pred_labels)\n",
    "precision, recall, f1, _ = precision_recall_fscore_support(\n",
    "    test_labels, pred_labels, average=\"weighted\"\n",
    ")\n",
    "\n",
    "print(\"Test Accuracy:\", accuracy)\n",
    "print(\"Precision:\", precision)\n",
    "print(\"Recall:\", recall)\n",
    "print(\"F1-score:\", f1)\n",
    "\n",
    "class_names = [\"EVIDENCE\", \"NOT-EVIDENCE\"]\n",
    "print(\"\\nClassification Report:\")\n",
    "print(classification_report(test_labels, pred_labels, target_names=class_names))\n",
    "\n",
    "# Error analysis\n",
    "\n",
    "incorrect_predictions = []\n",
    "for i in range(len(test_labels)):\n",
    "    if test_labels[i] != pred_labels[i]:\n",
    "        incorrect_predictions.append(i)\n",
    "\n",
    "print(\n",
    "    f\"Number of incorrect predictions: {len(incorrect_predictions)} out of {len(test_labels)}\")"
   ]
  },
  {
   "cell_type": "code",
   "execution_count": 26,
   "metadata": {},
   "outputs": [
    {
     "data": {
      "application/vnd.jupyter.widget-view+json": {
       "model_id": "095e7d31f8b241da9279c07fd64a52de",
       "version_major": 2,
       "version_minor": 0
      },
      "text/plain": [
       "VBox(children=(Label(value='0.005 MB of 0.005 MB uploaded\\r'), FloatProgress(value=1.0, max=1.0)))"
      ]
     },
     "metadata": {},
     "output_type": "display_data"
    },
    {
     "data": {
      "text/html": [
       "<style>\n",
       "    table.wandb td:nth-child(1) { padding: 0 10px; text-align: left ; width: auto;} td:nth-child(2) {text-align: left ; width: 100%}\n",
       "    .wandb-row { display: flex; flex-direction: row; flex-wrap: wrap; justify-content: flex-start; width: 100% }\n",
       "    .wandb-col { display: flex; flex-direction: column; flex-basis: 100%; flex: 1; padding: 10px; }\n",
       "    </style>\n",
       "<div class=\"wandb-row\"><div class=\"wandb-col\"><h3>Run history:</h3><br/><table class=\"wandb\"><tr><td>eval/accuracy</td><td>▁▁</td></tr><tr><td>eval/f1</td><td>▁▁</td></tr><tr><td>eval/loss</td><td>▁▁</td></tr><tr><td>eval/precision</td><td>▁▁</td></tr><tr><td>eval/recall</td><td>▁▁</td></tr><tr><td>eval/runtime</td><td>▁█</td></tr><tr><td>eval/samples_per_second</td><td>█▁</td></tr><tr><td>eval/steps_per_second</td><td>█▁</td></tr><tr><td>test/runtime</td><td>▁</td></tr><tr><td>test/samples_per_second</td><td>▁</td></tr><tr><td>test/steps_per_second</td><td>▁</td></tr><tr><td>train/epoch</td><td>▁▁▂▂▂▂▂▂▃▃▃▃▃▃▄▄▄▄▄▄▄▅▅▅▅▅▅▆▆▆▆▇▇▇▇█████</td></tr><tr><td>train/global_step</td><td>▁▁▁▂▂▂▂▂▂▂▃▃▃▃▃▄▄▄▄▄▅▅▅▅▅▅▅▆▆▆▆▇▇▇▇█████</td></tr><tr><td>train/grad_norm</td><td>▁▁▂▁▁▂▃▂▄▂▃▇▃▂▂▃▄▇▅▃▄▃▅▂▂▄▃▄▃▇▂█▃▃▃▂▃▂▂▂</td></tr><tr><td>train/learning_rate</td><td>▁▁▁▂▂▂▂▃▃▃▄▄▄▄▄▅▅▅▅▅▆▆▆▆▇▇▇███▇▇▆▆▅▅▄▄▂▁</td></tr><tr><td>train/loss</td><td>▇▇▇▅▅▅▆▇▅▆▄▅▆▅▃▅▄▅▃▄▅▅▇▄▄▆▅▄▄▆▃▅▂█▄▅▂▁▅▂</td></tr></table><br/></div><div class=\"wandb-col\"><h3>Run summary:</h3><br/><table class=\"wandb\"><tr><td>eval/accuracy</td><td>0.72895</td></tr><tr><td>eval/f1</td><td>0.71934</td></tr><tr><td>eval/loss</td><td>0.58456</td></tr><tr><td>eval/precision</td><td>0.72165</td></tr><tr><td>eval/recall</td><td>0.72895</td></tr><tr><td>eval/runtime</td><td>28.4086</td></tr><tr><td>eval/samples_per_second</td><td>30.519</td></tr><tr><td>eval/steps_per_second</td><td>3.837</td></tr><tr><td>test/runtime</td><td>58.4947</td></tr><tr><td>test/samples_per_second</td><td>29.233</td></tr><tr><td>test/steps_per_second</td><td>3.658</td></tr><tr><td>total_flos</td><td>1471317021573120.0</td></tr><tr><td>train/epoch</td><td>1</td></tr><tr><td>train/global_step</td><td>699</td></tr><tr><td>train/grad_norm</td><td>5.08474</td></tr><tr><td>train/learning_rate</td><td>0.0</td></tr><tr><td>train/loss</td><td>0.5072</td></tr><tr><td>train_loss</td><td>0.60753</td></tr><tr><td>train_runtime</td><td>550.792</td></tr><tr><td>train_samples_per_second</td><td>10.153</td></tr><tr><td>train_steps_per_second</td><td>1.269</td></tr></table><br/></div></div>"
      ],
      "text/plain": [
       "<IPython.core.display.HTML object>"
      ]
     },
     "metadata": {},
     "output_type": "display_data"
    },
    {
     "data": {
      "text/html": [
       " View run <strong style=\"color:#cdcd00\">snowy-water-51</strong> at: <a href='https://wandb.ai/jhalak-team/Contract-NLI/runs/mrebruek' target=\"_blank\">https://wandb.ai/jhalak-team/Contract-NLI/runs/mrebruek</a><br/> View project at: <a href='https://wandb.ai/jhalak-team/Contract-NLI' target=\"_blank\">https://wandb.ai/jhalak-team/Contract-NLI</a><br/>Synced 5 W&B file(s), 0 media file(s), 0 artifact file(s) and 0 other file(s)"
      ],
      "text/plain": [
       "<IPython.core.display.HTML object>"
      ]
     },
     "metadata": {},
     "output_type": "display_data"
    },
    {
     "data": {
      "text/html": [
       "Find logs at: <code>.\\wandb\\run-20241116_012400-mrebruek\\logs</code>"
      ],
      "text/plain": [
       "<IPython.core.display.HTML object>"
      ]
     },
     "metadata": {},
     "output_type": "display_data"
    }
   ],
   "source": [
    "wandb.finish()"
   ]
  },
  {
   "cell_type": "code",
   "execution_count": null,
   "metadata": {},
   "outputs": [],
   "source": []
  }
 ],
 "metadata": {
  "kernelspec": {
   "display_name": "anlpenv",
   "language": "python",
   "name": "python3"
  },
  "language_info": {
   "codemirror_mode": {
    "name": "ipython",
    "version": 3
   },
   "file_extension": ".py",
   "mimetype": "text/x-python",
   "name": "python",
   "nbconvert_exporter": "python",
   "pygments_lexer": "ipython3",
   "version": "3.11.8"
  }
 },
 "nbformat": 4,
 "nbformat_minor": 2
}
