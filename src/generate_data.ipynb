{
 "cells": [
  {
   "cell_type": "markdown",
   "metadata": {},
   "source": [
    "### Generate the csvs for all splits"
   ]
  },
  {
   "cell_type": "code",
   "execution_count": 2,
   "metadata": {},
   "outputs": [],
   "source": [
    "import torch\n",
    "from transformers import DistilBertForSequenceClassification, Trainer, TrainingArguments\n",
    "import wandb \n",
    "import csv\n",
    "import json\n",
    "import pandas as pd\n",
    "import matplotlib.pyplot as plt\n",
    "from sklearn.metrics import confusion_matrix, classification_report\n",
    "from sklearn.metrics import accuracy_score, precision_recall_fscore_support\n",
    "# from transformers import DistilBertTokenizer\n",
    "import numpy as np\n",
    "import torch.nn as nn\n",
    "# import torch.optim as optim\n",
    "# from tabulate import tabulate\n",
    "# from torch.utils.data import DataLoader\n",
    "from transformers import AutoTokenizer, AutoModelForSequenceClassification, Trainer, TrainingArguments\n",
    "from sklearn.metrics import accuracy_score, precision_recall_fscore_support\n",
    "import torch"
   ]
  },
  {
   "cell_type": "code",
   "execution_count": 1,
   "metadata": {},
   "outputs": [],
   "source": [
    "from loader import ContractNLIExample\n",
    "\n",
    "ENTAILMENT = 0\n",
    "CONTRADICTION = 1\n",
    "NOT_MENTIONED = 2\n",
    "\n",
    "def get_label(label):\n",
    "    label = str(label)\n",
    "    if label == \"NLILabel.ENTAILMENT\":\n",
    "        return ENTAILMENT\n",
    "    elif label == \"NLILabel.CONTRADICTION\":\n",
    "        return CONTRADICTION\n",
    "    elif label == \"NLILabel.NOT_MENTIONED\":\n",
    "        return NOT_MENTIONED"
   ]
  },
  {
   "cell_type": "code",
   "execution_count": 3,
   "metadata": {},
   "outputs": [],
   "source": [
    "# make a collected dataset\n",
    "def json_to_csv(json_file, csv_file):\n",
    "    # Read the JSON file\n",
    "    examples = ContractNLIExample.load(json.load(open(json_file, 'r', encoding='utf-8')))\n",
    "\n",
    "    with open(csv_file, 'w', newline='', encoding='utf-8') as f:\n",
    "        writer = csv.writer(f)\n",
    "        writer.writerow(['concatenated_spans', 'hypothesis', 'num_spans', 'num_evidence_spans', 'num_tokens', 'label'])   # Write the header row\n",
    "\n",
    "        # Iterate over each document\n",
    "        for example in examples:\n",
    "            doc_id = example.document_id  # Get the document ID\n",
    "            spans = example.spans  # Get the 'spans' array\n",
    "            num_spans = len(spans)  # Get the number of spans\n",
    "            num_evidence_spans = len(example.annotated_spans)\n",
    "            num_tokens = len(example.tokens)\n",
    "            label = get_label(example.label)     # Get the 'label' object\n",
    "            hypothesis = example.hypothesis_text  # Get the 'hypothesis' object\n",
    "            annotated_spans = [spans[i] for i in example.annotated_spans]  # Get the 'annotations' object\n",
    "            \n",
    "            # check if label is 'not mentioned'\n",
    "            if len(annotated_spans) == 0:\n",
    "                # pick 3 random spans\n",
    "                annotated_spans = [spans[i] for i in np.random.choice(len(spans), 3, replace=False)]\n",
    "\n",
    "            context_text = example.context_text  # Get the 'context' object\n",
    "\n",
    "            concatenated_spans = []\n",
    "            concatenated_spans.append(\n",
    "                \"\\n\".join([context_text[start:end] for start, end in annotated_spans])\n",
    "            )\n",
    "\n",
    "            concatenated_spans = \"\\n\\n\".join(concatenated_spans)\n",
    "\n",
    "            writer.writerow([concatenated_spans, hypothesis, num_spans, num_evidence_spans, num_tokens, label])  # Write the row to the CSV file\n",
    "\n",
    "    print(f\"Conversion complete. CSV file '{csv_file}' created.\")"
   ]
  },
  {
   "cell_type": "code",
   "execution_count": 4,
   "metadata": {},
   "outputs": [],
   "source": [
    "json_folder = \"../dataset/contract-nli\"\n",
    "csv_folder = \"../dataset/csv/all_labels\""
   ]
  },
  {
   "cell_type": "code",
   "execution_count": 5,
   "metadata": {},
   "outputs": [
    {
     "name": "stderr",
     "output_type": "stream",
     "text": [
      "100%|██████████| 423/423 [00:41<00:00, 10.08it/s]\n"
     ]
    },
    {
     "name": "stdout",
     "output_type": "stream",
     "text": [
      "Conversion complete. CSV file '../dataset/csv/all_labels/train.csv' created.\n"
     ]
    },
    {
     "name": "stderr",
     "output_type": "stream",
     "text": [
      "100%|██████████| 61/61 [00:06<00:00,  9.89it/s]\n"
     ]
    },
    {
     "name": "stdout",
     "output_type": "stream",
     "text": [
      "Conversion complete. CSV file '../dataset/csv/all_labels/validation.csv' created.\n"
     ]
    },
    {
     "name": "stderr",
     "output_type": "stream",
     "text": [
      "100%|██████████| 123/123 [00:11<00:00, 10.62it/s]\n"
     ]
    },
    {
     "name": "stdout",
     "output_type": "stream",
     "text": [
      "Conversion complete. CSV file '../dataset/csv/all_labels/test.csv' created.\n"
     ]
    }
   ],
   "source": [
    "# json_to_csv(f'{json_folder}/train.json', f'{csv_folder}/train.csv')\n",
    "# json_to_csv(f'{json_folder}/dev.json', f'{csv_folder}/validation.csv')\n",
    "# json_to_csv(f'{json_folder}/test.json', f'{csv_folder}/test.csv')\n",
    "\n",
    "train_df = pd.read_csv(f'{csv_folder}/train.csv')\n",
    "val_df = pd.read_csv(f'{csv_folder}/validation.csv')\n",
    "test_df = pd.read_csv(f'{csv_folder}/test.csv')"
   ]
  },
  {
   "cell_type": "code",
   "execution_count": null,
   "metadata": {},
   "outputs": [],
   "source": []
  }
 ],
 "metadata": {
  "kernelspec": {
   "display_name": "anlpenv",
   "language": "python",
   "name": "python3"
  },
  "language_info": {
   "codemirror_mode": {
    "name": "ipython",
    "version": 3
   },
   "file_extension": ".py",
   "mimetype": "text/x-python",
   "name": "python",
   "nbconvert_exporter": "python",
   "pygments_lexer": "ipython3",
   "version": "3.11.8"
  }
 },
 "nbformat": 4,
 "nbformat_minor": 2
}
